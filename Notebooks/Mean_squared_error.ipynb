# %%
import pandas as pd
import matplotlib.pyplot as plt
from sklearn.metrics import mean_squared_error

# %% [markdown]
# # Linear Regression Workflow
# 
# Steps:
# 1. Import data
# 2. Visualize the data
# 3. Build a prediction function
# 4. Implement a custom cost function
# 5. Compare results with `sklearn`'s MSE

# %% [markdown]
# ## 1. Importing Data

# %%
# Load the dataset
data = pd.read_csv("data.csv")

# Extract input (feature) and output (target) variables
input = data["Hours Studied"]
output = data["Exam Score"]

# Display first 5 rows of the dataset
print("First 5 rows of the dataset:")
display(data.head())

# %% [markdown]
# ## 2. Visualizing the Data Points

# %%
# Plot the data points
plt.figure(figsize=(8, 6))
plt.scatter(input, output, color="blue", label="Data Points")
plt.xlabel("Hours Studied")
plt.ylabel("Exam Score")
plt.title("Hours Studied vs Exam Score")
plt.legend()
plt.grid()
plt.show()

# %% [markdown]
# ## 3. Predict Function

# %%
def predict(m, x, b):
    """
    Predict output (y) for a linear function y = mx + b.
    """
    return m * x + b

# Test predict function
test_predictions = predict(1, input, 1)
print("Sample predictions with m=1, b=1:\n", test_predictions.head())

# %% [markdown]
# ## 4. Custom Mean Squared Error Function

# %%
def mean_squared_error_mine(x, y):
    """
    Custom implementation of Mean Squared Error (MSE) assuming y = mx + b with m=1, b=1.
    """
    n = len(x)
    y_pred = 1 * x + 1  # Hardcoded m=1, b=1
    error = sum((y - y_pred) ** 2) / n
    return error

# Calculate custom MSE
custom_mse = mean_squared_error_mine(input, output)
print(f"Custom MSE (m=1, b=1): {custom_mse:.4f}")

# %% [markdown]
# ## 5. Sklearn's Mean Squared Error Comparison

# %%
# Calculate MSE using sklearn
sklearn_mse = mean_squared_error(output, predict(1, input, 1))
print(f"Sklearn MSE (m=1, b=1): {sklearn_mse:.4f}")

# %% [markdown]
# ### Observations
# - Both the custom MSE and `sklearn` MSE are identical.
# - This confirms the correctness of the custom implementation.

# %%
