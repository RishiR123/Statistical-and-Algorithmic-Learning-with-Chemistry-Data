# %%
import pandas as pd
import matplotlib.pyplot as plt
from sklearn.metrics import mean_squared_error

# %% [markdown]
# # Linear Regression Workflow
# 
# This notebook walks through:
# 1. Importing data
# 2. Visualizing the data
# 3. Building a prediction function
# 4. Defining a custom cost function
# 5. Comparing the custom cost function with `sklearn`'s implementation

# %% [markdown]
# ## 1. Importing Data

# %%
# Load the dataset
data = pd.read_csv("data.csv")

# Extract input (feature) and output (target) variables
input = data["Hours Studied"]
output = data["Exam Score"]

# Display the first 5 rows to verify
print("First 5 rows of the dataset:")
display(data.head())

# %% [markdown]
# ## 2. Visualizing the Data Points

# %%
plt.figure(figsize=(8, 6))
plt.scatter(input, output, color="blue", label="Data Points")
plt.xlabel("Hours Studied")
plt.ylabel("Exam Score")
plt.title("Hours Studied vs Exam Score")
plt.legend()
plt.grid(True)
plt.show()

# %% [markdown]
# ## 3. Predict Function

# %%
# Define the prediction function
def predict(m, x, b):
    """
    Predict the output y given slope (m), input (x), and intercept (b).
    """
    y = m * x + b
    return y

# Test the prediction function
test_prediction = predict(1, input, 1)
print("Sample predictions with m=1, b=1:\n", test_prediction.head())

# %% [markdown]
# ## 4. Custom Cost Function (Mean Squared Error)

# %%
# Define a custom mean squared error function
def mean_squared_error_mine(x, y):
    """
    Compute Mean Squared Error (MSE) for a simple linear model y = m*x + b (default m=1, b=1).
    """
    n = x.shape[0]
    y_pred = 1 * x + 1  # Assuming m=1, b=1
    error = 0
    for i in range(n):
        error += ((y[i] - y_pred[i]) ** 2) / n
    return error

# Calculate custom MSE
custom_mse = mean_squared_error_mine(input, output)
print(f"Custom MSE (m=1, b=1): {custom_mse:.4f}")

# %% [markdown]
# ## 5. Comparison with `sklearn`'s MSE

# %%
# Calculate MSE using sklearn's mean_squared_error
sklearn_mse = mean_squared_error(output, predict(1, input, 1))
print(f"Sklearn MSE (m=1, b=1): {sklearn_mse:.4f}")

# %% [markdown]
# ### Observations
# - Both custom and `sklearn` MSE calculations give the same result.
# - This verifies the correctness of the custom implementation.

# %%
